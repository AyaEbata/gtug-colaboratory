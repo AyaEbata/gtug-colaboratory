{
  "nbformat": 4,
  "nbformat_minor": 0,
  "metadata": {
    "colab": {
      "name": "colaboratory.ipynb",
      "provenance": [],
      "authorship_tag": "ABX9TyN47aAqNXFF3E2StD+Yr/Nd",
      "include_colab_link": true
    },
    "kernelspec": {
      "name": "python3",
      "display_name": "Python 3"
    },
    "language_info": {
      "name": "python"
    }
  },
  "cells": [
    {
      "cell_type": "markdown",
      "metadata": {
        "id": "view-in-github",
        "colab_type": "text"
      },
      "source": [
        "<a href=\"https://colab.research.google.com/github/AyaEbata/gtug-colaboratory/blob/main/colaboratory.ipynb\" target=\"_parent\"><img src=\"https://colab.research.google.com/assets/colab-badge.svg\" alt=\"Open In Colab\"/></a>"
      ]
    },
    {
      "cell_type": "markdown",
      "metadata": {
        "id": "E0BqEKsR7z_6"
      },
      "source": [
        "# 第55回 GTUG Girls はじめての Colaboratory\n",
        "https://gtuggirls.connpass.com/event/211969/\n",
        "\n",
        "やってみたよ！  \n",
        "Colaboratoryで書いてみたよ！"
      ]
    },
    {
      "cell_type": "markdown",
      "metadata": {
        "id": "Oo4P_Sfe-1Ei"
      },
      "source": [
        "## Hello Worldしてみた"
      ]
    },
    {
      "cell_type": "code",
      "metadata": {
        "colab": {
          "base_uri": "https://localhost:8080/"
        },
        "id": "uZ1Ua0Dx7oZa",
        "outputId": "e9ffa49b-4e3a-4a3e-f997-2a433614f335"
      },
      "source": [
        "print(\"Hello World!\")"
      ],
      "execution_count": null,
      "outputs": [
        {
          "output_type": "stream",
          "text": [
            "Hello World!\n"
          ],
          "name": "stdout"
        }
      ]
    },
    {
      "cell_type": "markdown",
      "metadata": {
        "id": "rCkILiwO-jhs"
      },
      "source": [
        "## gistにも上げられるらしいので、あげてみた\n",
        "https://gist.github.com/AyaEbata/59e90d5f014b1b379f6ae62d00809830"
      ]
    }
  ]
}